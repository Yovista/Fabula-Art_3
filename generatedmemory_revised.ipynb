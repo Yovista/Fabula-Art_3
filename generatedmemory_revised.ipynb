{
 "cells": [
  {
   "cell_type": "code",
   "execution_count": null,
   "metadata": {},
   "outputs": [],
   "source": [
    "import numpy as np\n",
    "import cv2 as cv\n",
    "import glob\n",
    "import PIL\n",
    "from PIL import Image\n",
    "from math import ceil, floor\n",
    "from matplotlib import pyplot as plt\n",
    "import os\n",
    "\n",
    "\n"
   ]
  },
  {
   "cell_type": "code",
   "execution_count": null,
   "metadata": {},
   "outputs": [],
   "source": [
    "videos = []\n",
    "videos.extend(glob.glob('*.mp4'))\n"
   ]
  },
  {
   "cell_type": "code",
   "execution_count": null,
   "metadata": {},
   "outputs": [],
   "source": [
    "videocount = 0\n",
    "for video in videos:\n",
    "    videocount += 1\n",
    "    vidcap = cv.VideoCapture(video)\n",
    "    vidcap.set(cv.CAP_PROP_POS_MSEC,5000)      # just cue to 20 sec. position\n",
    "    success,image = vidcap.read()\n",
    "    if success:\n",
    "        cv.imwrite(str(videocount) + '.jpg', image)     # save frame as JPEG file\n",
    "    \n",
    "    pass\n",
    "    "
   ]
  },
  {
   "cell_type": "code",
   "execution_count": null,
   "metadata": {},
   "outputs": [],
   "source": [
    "types = ('*.jpeg', '*.jpg','*.png') # the tuple of file types\n",
    "images = []\n",
    "for files in types:\n",
    "    images.extend(glob.glob(files))"
   ]
  },
  {
   "cell_type": "code",
   "execution_count": null,
   "metadata": {},
   "outputs": [],
   "source": [
    "frame_width = 1500\n",
    "images_per_row = 4\n",
    "padding = 4\n",
    "\n",
    "             \n",
    "\n",
    "img_width, img_height = 500,500\n",
    "sf = (frame_width-(images_per_row-1)*padding)/(images_per_row*img_width)       #scaling factor\n",
    "scaled_img_width = ceil(img_width*sf)                   #s\n",
    "scaled_img_height = ceil(img_height*sf)\n",
    "\n",
    "number_of_rows = ceil(len(images)/images_per_row)\n",
    "frame_height = ceil(sf*img_height*number_of_rows) \n",
    "\n",
    "new_im = Image.new('RGB', (frame_width, frame_height))\n",
    "\n",
    "i,j=0,0\n",
    "for num, im in enumerate(images):\n",
    "    if num%images_per_row==0:\n",
    "        i=0\n",
    "    im = Image.open(im)\n",
    "    #Here I resize my opened image, so it is no bigger than 100,100\n",
    "    im.thumbnail((scaled_img_width,scaled_img_height))\n",
    "    #Iterate through a 4 by 4 grid with 100 spacing, to place my image\n",
    "    y_cord = (j//images_per_row)*scaled_img_height\n",
    "    new_im.paste(im, (i,y_cord))\n",
    "    print(i, y_cord)\n",
    "    i=(i+scaled_img_width)+padding\n",
    "    j+=1\n",
    "\n",
    "new_im.save(\"collage.jpg\",optimize=True, progressive=True)"
   ]
  },
  {
   "cell_type": "code",
   "execution_count": null,
   "metadata": {},
   "outputs": [],
   "source": [
    "def Histogram_Computation(Image):\n",
    "\n",
    "    Image_Height = Image.shape[0]\n",
    "    Image_Width = Image.shape[1]\n",
    "\n",
    "    Histogram = np.zeros([256], np.int32)\n",
    "\n",
    "    for x in range(0, Image_Height):\n",
    "        for y in range(0, Image_Width):\n",
    "            Histogram[Image[x,y]] +=1\n",
    "\n",
    "    return Histogram\n",
    "\n"
   ]
  },
  {
   "cell_type": "code",
   "execution_count": null,
   "metadata": {},
   "outputs": [],
   "source": [
    "Input_Image = cv.imread(\"collage.jpg\",0) \n",
    "\n",
    "Histogram = Histogram_Computation(Input_Image)"
   ]
  },
  {
   "cell_type": "code",
   "execution_count": null,
   "metadata": {
    "scrolled": true
   },
   "outputs": [],
   "source": [
    "for i in range(0, Histogram.shape[0]):\n",
    "\n",
    "    print( Histogram)\n",
    "\n",
    "Plot_Histogram(Histogram)"
   ]
  },
  {
   "cell_type": "code",
   "execution_count": null,
   "metadata": {},
   "outputs": [],
   "source": [
    "histlist = Histogram.tolist()\n"
   ]
  },
  {
   "cell_type": "code",
   "execution_count": null,
   "metadata": {},
   "outputs": [],
   "source": [
    "numerical = list(range(256))"
   ]
  },
  {
   "cell_type": "code",
   "execution_count": null,
   "metadata": {},
   "outputs": [],
   "source": [
    "import pandas as pd\n",
    "import random\n",
    "import numpy as np\n",
    "import cv2 as cv\n",
    "import glob\n",
    "from math import ceil, floor\n",
    "from matplotlib import pyplot as plt\n",
    "import os\n",
    "\n",
    "\n"
   ]
  },
  {
   "cell_type": "code",
   "execution_count": null,
   "metadata": {},
   "outputs": [],
   "source": [
    "lst1 = list(range(100))\n",
    "lst2 =list(np.random.randint(low = 1,high=3000,size=100))\n",
    "df = pd.DataFrame(\n",
    "    {'No': lst1,\n",
    "     'Bw': lst2,\n",
    "    })"
   ]
  },
  {
   "cell_type": "code",
   "execution_count": null,
   "metadata": {},
   "outputs": [],
   "source": [
    "df.to_csv('histogram.csv',index=False)"
   ]
  },
  {
   "cell_type": "code",
   "execution_count": null,
   "metadata": {},
   "outputs": [],
   "source": [
    "histogram= df.to_dict('r')"
   ]
  },
  {
   "cell_type": "code",
   "execution_count": null,
   "metadata": {},
   "outputs": [],
   "source": [
    "histogram"
   ]
  },
  {
   "cell_type": "code",
   "execution_count": null,
   "metadata": {},
   "outputs": [],
   "source": [
    "from miditime.miditime import MIDITime\n",
    "mymidi = MIDITime(300, 'collage.mid', 70, 3, 3)"
   ]
  },
  {
   "cell_type": "code",
   "execution_count": null,
   "metadata": {},
   "outputs": [],
   "source": [
    "my_data_timed_b = [{'beat': mymidi.beat(d['No']), 'freq': d['Bw']} for d in histogram]"
   ]
  },
  {
   "cell_type": "code",
   "execution_count": null,
   "metadata": {},
   "outputs": [],
   "source": [
    "start_timeb = my_data_timed_b[0]['beat']"
   ]
  },
  {
   "cell_type": "code",
   "execution_count": null,
   "metadata": {},
   "outputs": [],
   "source": [
    "def mag_to_pitch_tunedb(freq):\n",
    "    scale_pctb = mymidi.linear_scale_pct(min([x['Bw'] for x in histogram]), 3000, freq)\n",
    "\n",
    "\n",
    "    c_major = [\"C\", \"C#\", \"Db\", \"D\", \"D#\", \"Eb\", \"E\", \"F\", \"F#\", \"Gb\", \"G\", \"G#\", \"Ab\", \"A\", \"A#\", \"Bb\", \"B\"]\n",
    "\n",
    "\n",
    "    noteb = mymidi.scale_to_note_classic(scale_pctb, c_major)\n",
    "\n",
    "\n",
    "\n",
    "    midi_pitchb = mymidi.note_to_midi_pitch(noteb)\n",
    "\n",
    "    \n",
    "    return midi_pitchb\n",
    "\n"
   ]
  },
  {
   "cell_type": "code",
   "execution_count": null,
   "metadata": {},
   "outputs": [],
   "source": [
    "note_listb = []\n",
    "\n",
    "for d in my_data_timed_b:\n",
    "    note_listb.append([\n",
    "        d['beat'] - start_timeb,\n",
    "        mag_to_pitch_tunedb(d['freq']),\n",
    "        100,  # velocity\n",
    "        1  # duration, in beats\n",
    "    ])\n"
   ]
  },
  {
   "cell_type": "code",
   "execution_count": null,
   "metadata": {},
   "outputs": [],
   "source": [
    "# Add a track with those notes\n",
    "mymidi.add_track(note_listb)\n",
    "# Output the .mid file\n",
    "mymidi.save_midi()"
   ]
  },
  {
   "cell_type": "code",
   "execution_count": null,
   "metadata": {},
   "outputs": [],
   "source": [
    "from pydub import AudioSegment\n",
    "from pydub.generators import Sine\n",
    "from collections import defaultdict\n",
    "from mido import MidiFile"
   ]
  },
  {
   "cell_type": "code",
   "execution_count": null,
   "metadata": {
    "scrolled": true
   },
   "outputs": [],
   "source": [
    "def note_to_freq(note, concert_A=440.0):\n",
    "    \n",
    "    return (2.0 ** ((note - 69) / 12.0)) * concert_A\n",
    "\n",
    "mid = MidiFile(\"collage.mid\")\n",
    "output = AudioSegment.silent(mid.length * 2000.0)\n",
    "\n",
    "tempo = 150 # bpm\n",
    "output = output.low_pass_filter(1000)\n",
    "\n",
    "def ticks_to_ms(ticks):\n",
    "    tick_ms = (60000.0 / tempo) / mid.ticks_per_beat\n",
    "    return ticks * tick_ms\n",
    "  \n",
    "\n",
    "for track in mid.tracks:\n",
    "  \n",
    "    current_pos = 0.0\n",
    "\n",
    "    current_notes = defaultdict(dict)\n",
    "\n",
    "    for msg in track:\n",
    "        current_pos += ticks_to_ms(msg.time)\n",
    "\n",
    "        if msg.type == 'note_on':\n",
    "            current_notes[msg.channel][msg.note] = (current_pos, msg)\n",
    "\n",
    "        if msg.type == 'note_off':\n",
    "            start_pos, start_msg = current_notes[msg.channel].pop(msg.note)\n",
    "\n",
    "            duration = current_pos - start_pos\n",
    "\n",
    "            signal_generator = Sine(note_to_freq(msg.note))\n",
    "            rendered = signal_generator.to_audio_segment(duration=duration, volume=-20).fade_out(300).fade_in(30)\n",
    "\n",
    "            output = output.overlay(rendered, start_pos)\n",
    "\n",
    "output.export(\"generatedmemory.wav\", format=\"wav\")"
   ]
  },
  {
   "cell_type": "code",
   "execution_count": null,
   "metadata": {},
   "outputs": [],
   "source": [
    "import numpy as np\n",
    "import librosa, librosa.display\n",
    "import matplotlib.pyplot as plt\n",
    "import os\n",
    "from mobilechelonian import Turtle"
   ]
  },
  {
   "cell_type": "code",
   "execution_count": null,
   "metadata": {},
   "outputs": [],
   "source": [
    "name ='generatedmemory'\n",
    "file = name+\".wav\"\n",
    "title =name+\".ps\"\n",
    "png = name + '.png'\n",
    "frame_count=0\n"
   ]
  },
  {
   "cell_type": "code",
   "execution_count": null,
   "metadata": {},
   "outputs": [],
   "source": [
    "signal, sample_rate = librosa.load(file)"
   ]
  },
  {
   "cell_type": "code",
   "execution_count": null,
   "metadata": {},
   "outputs": [],
   "source": [
    "FRAME_SIZE = 2028\n",
    "HOP_LENGTH = 250000\n"
   ]
  },
  {
   "cell_type": "code",
   "execution_count": null,
   "metadata": {},
   "outputs": [],
   "source": [
    "rms = librosa.feature.rms(signal, frame_length=FRAME_SIZE, hop_length=HOP_LENGTH)[0]\n",
    "frames = range(len(rms))\n",
    "t = librosa.frames_to_time(frames, hop_length=HOP_LENGTH)"
   ]
  },
  {
   "cell_type": "code",
   "execution_count": null,
   "metadata": {},
   "outputs": [],
   "source": [
    "spec = []\n",
    "for i in rms:\n",
    "    spec.append(i*120)"
   ]
  },
  {
   "cell_type": "code",
   "execution_count": null,
   "metadata": {},
   "outputs": [],
   "source": [
    "len(rms)"
   ]
  },
  {
   "cell_type": "code",
   "execution_count": null,
   "metadata": {},
   "outputs": [],
   "source": [
    "import turtle\n",
    "import time\n",
    "from turtle import Screen, Turtle\n",
    "from random import randint\n",
    "import random\n",
    "import PIL.Image\n",
    "from tkinter import *\n",
    "import itertools\n",
    "import io"
   ]
  },
  {
   "cell_type": "code",
   "execution_count": null,
   "metadata": {},
   "outputs": [],
   "source": [
    "# audio/visual animation & final output of sound to image\n",
    "current_directory = os.getcwd()\n",
    "image_path = os.path.join(current_directory, r'new_folder')\n",
    "if not os.path.exists(image_path):\n",
    "    os.makedirs(image_path)\n",
    "    \n",
    "window = turtle.Screen()\n",
    "window.title(str(name))\n",
    "window.setup(width = 650, height = 650)\n",
    "cv = turtle.getcanvas()\n",
    "\n",
    "turtle.hideturtle()\n",
    "turtle.speed(0)\n",
    "turtle.width(2)\n",
    "turtle.bgcolor('white')\n",
    "time.sleep(5)\n",
    "warna = ['#f9a931','#2568b6','#fb4a16','#026768','#c4a4cd','#3c3f45'\n",
    "         ]\n",
    "\n",
    "bgc = ['#43bcd9', '#fec009','#fc8a17','#9a9b9f','#506d5b','#e1907f','#dbcec5','#f2bdcd']\n",
    "w= random.choice(bgc)\n",
    "turtle.penup()\n",
    "turtle.pencolor(w)\n",
    "turtle.width(3)\n",
    "turtle.goto(-325,325)\n",
    "turtle.pendown()\n",
    "turtle.fillcolor(w)\n",
    "turtle.begin_fill()\n",
    "turtle.goto(0,325)\n",
    "turtle.goto(0,0)\n",
    "turtle.goto(-325,0)\n",
    "turtle.goto(-325,325)\n",
    "turtle.end_fill()\n",
    "turtle.penup()\n",
    "\n",
    "\n",
    "\n",
    "w= random.choice(bgc)\n",
    "turtle.penup()\n",
    "turtle.pencolor(w)\n",
    "turtle.width(3)\n",
    "turtle.goto(0,325)\n",
    "turtle.pendown()\n",
    "turtle.fillcolor(w)\n",
    "turtle.begin_fill()\n",
    "turtle.goto(325,325)\n",
    "turtle.goto(325,0)\n",
    "turtle.goto(0,0)\n",
    "turtle.goto(0,325)\n",
    "turtle.end_fill()\n",
    "turtle.penup()\n",
    "\n",
    "\n",
    "turtle.penup()\n",
    "turtle.pencolor(w)\n",
    "turtle.width(3)\n",
    "turtle.setheading(0)\n",
    "turtle.goto(-325,0)\n",
    "turtle.pendown()\n",
    "turtle.fillcolor(w)\n",
    "turtle.begin_fill()\n",
    "turtle.goto(0,0)\n",
    "turtle.goto(0,-325)\n",
    "turtle.goto(-325,-325)\n",
    "turtle.goto(-325,0)\n",
    "turtle.end_fill()\n",
    "turtle.penup()\n",
    "\n",
    "\n",
    "\n",
    "w= random.choice(bgc)\n",
    "turtle.penup()\n",
    "turtle.pencolor(w)\n",
    "turtle.width(3)\n",
    "turtle.setheading(0)\n",
    "turtle.goto(0,0)\n",
    "turtle.pendown()\n",
    "turtle.fillcolor(w)\n",
    "turtle.begin_fill()\n",
    "turtle.goto(325,0)\n",
    "turtle.goto(325,-325)\n",
    "turtle.goto(0,-325)\n",
    "turtle.goto(0,0)\n",
    "turtle.end_fill()\n",
    "turtle.penup()\n",
    "\n",
    "\n",
    "\n",
    "\n",
    "\n",
    "density= [0,2,5]\n",
    "\n",
    "sudut = [0,90,180,360]\n",
    "for s in spec:\n",
    "    for i in range(0,1):\n",
    "        d= random.choice(density)\n",
    "        w= random.choice(warna)\n",
    "        turtle.pencolor(w)\n",
    "        turtle.goto(randint(-320,320),randint(-320,320))\n",
    "        turtle.width(d)\n",
    "        turtle.setheading(random.choice(sudut))\n",
    "        turtle.pendown()\n",
    "        turtle.circle(s*6.5,180)\n",
    "        turtle.penup()\n",
    "  \n",
    "\n",
    "    \n",
    " \n",
    "    turtle.pencolor('black')\n",
    "    turtle.goto(randint(-300,300),randint(-300,300))\n",
    "    turtle.width(2)\n",
    "    turtle.fillcolor('black')\n",
    "    turtle.begin_fill()\n",
    "    turtle.pendown()\n",
    "    turtle.circle(s*5)\n",
    "    turtle.end_fill()\n",
    "    turtle.penup()\n",
    "    turtle.goto(turtle.position()[0]-5, turtle.position()[1]-1)\n",
    "    w = random.choice(warna)\n",
    "    turtle.pencolor(w)\n",
    "    turtle.fillcolor(w)\n",
    "    turtle.begin_fill()\n",
    "    turtle.pendown()\n",
    "    turtle.circle(s*5)\n",
    "    turtle.end_fill()\n",
    "    turtle.penup()\n",
    "    \n",
    "    \n",
    "    turtle.pencolor('black')\n",
    "    turtle.goto(randint(-300,300),randint(-300,300))\n",
    "    turtle.width(2)\n",
    "    turtle.fillcolor('black')\n",
    "    turtle.begin_fill()\n",
    "    turtle.pendown()\n",
    "    turtle.circle(s*7.5)\n",
    "    turtle.end_fill()\n",
    "    turtle.penup()\n",
    "    turtle.goto(turtle.position()[0]-5, turtle.position()[1]-1)\n",
    "    w = random.choice(warna)\n",
    "    turtle.pencolor(w)\n",
    "    turtle.fillcolor(w)\n",
    "    turtle.begin_fill()\n",
    "    turtle.pendown()\n",
    "    turtle.circle(s*7.5)\n",
    "    turtle.end_fill()\n",
    "    turtle.penup()\n",
    "    \n",
    "\n",
    "\n",
    "\n",
    "    \n",
    "    d=random.choice(density)\n",
    "    turtle.width(d)\n",
    "    for i in range(0,6):\n",
    "        turtle.goto(randint(-320,320),randint(-320,320))\n",
    "        turtle.pendown()\n",
    "        turtle.fillcolor(w)\n",
    "        turtle.begin_fill()\n",
    "        turtle.forward(i*20)\n",
    "        turtle.right(90)\n",
    "        turtle.end_fill()\n",
    "        turtle.penup()\n",
    "\n",
    "turtle.penup()\n",
    "turtle.goto(5,-300)\n",
    "turtle.pendown()\n",
    "turtle.pencolor('black')\n",
    "turtle.pendown()\n",
    "turtle.write('monalisa' ,move=False,align=\"center\", font=(\"Arial\", 20)) # monalisa can be passed to text input\n",
    "\n",
    "\n",
    "\n",
    "        \n",
    "\n",
    "\n",
    "       \n",
    "\n",
    "\n",
    "\n",
    "\n",
    "        \n",
    "\n",
    "cv.postscript(file=title, colormode='color')\n",
    "\n",
    "img = PIL.Image.open(title)\n",
    "img.load(scale=10)    \n",
    "img.save(png,'png')  #final result from sound to image\n",
    "\n",
    "\n",
    "turtle.done()\n",
    "print('is done')\n",
    "\n",
    "\n"
   ]
  },
  {
   "cell_type": "code",
   "execution_count": null,
   "metadata": {},
   "outputs": [],
   "source": []
  },
  {
   "cell_type": "code",
   "execution_count": null,
   "metadata": {},
   "outputs": [],
   "source": []
  }
 ],
 "metadata": {
  "kernelspec": {
   "display_name": "Python 3 (ipykernel)",
   "language": "python",
   "name": "python3"
  },
  "language_info": {
   "codemirror_mode": {
    "name": "ipython",
    "version": 3
   },
   "file_extension": ".py",
   "mimetype": "text/x-python",
   "name": "python",
   "nbconvert_exporter": "python",
   "pygments_lexer": "ipython3",
   "version": "3.9.7"
  }
 },
 "nbformat": 4,
 "nbformat_minor": 4
}
